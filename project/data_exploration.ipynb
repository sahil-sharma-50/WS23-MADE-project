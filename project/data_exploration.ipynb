{
 "cells": [
  {
   "cell_type": "markdown",
   "id": "456bd99c-ad75-4675-921d-fc3db53dcfb1",
   "metadata": {},
   "source": [
    "## Data Exploration on Accident Data"
   ]
  },
  {
   "cell_type": "code",
   "execution_count": 1,
   "id": "1a7f648a-d007-4621-a5ea-2c8f48bd9fed",
   "metadata": {},
   "outputs": [],
   "source": [
    "import pandas as pd"
   ]
  },
  {
   "cell_type": "code",
   "execution_count": 2,
   "id": "8c34b490-fb23-459e-aae9-601fe2d5d90b",
   "metadata": {},
   "outputs": [
    {
     "data": {
      "text/html": [
       "<div>\n",
       "<style scoped>\n",
       "    .dataframe tbody tr th:only-of-type {\n",
       "        vertical-align: middle;\n",
       "    }\n",
       "\n",
       "    .dataframe tbody tr th {\n",
       "        vertical-align: top;\n",
       "    }\n",
       "\n",
       "    .dataframe thead th {\n",
       "        text-align: right;\n",
       "    }\n",
       "</style>\n",
       "<table border=\"1\" class=\"dataframe\">\n",
       "  <thead>\n",
       "    <tr style=\"text-align: right;\">\n",
       "      <th></th>\n",
       "      <th>OBJECTID</th>\n",
       "      <th>LAND</th>\n",
       "      <th>BEZ</th>\n",
       "      <th>LOR</th>\n",
       "      <th>STRASSE</th>\n",
       "      <th>UJAHR</th>\n",
       "      <th>UMONAT</th>\n",
       "      <th>USTUNDE</th>\n",
       "      <th>UWOCHENTAG</th>\n",
       "      <th>UKATEGORIE</th>\n",
       "      <th>...</th>\n",
       "      <th>IstPKW</th>\n",
       "      <th>IstFuss</th>\n",
       "      <th>IstKrad</th>\n",
       "      <th>IstGkfz</th>\n",
       "      <th>IstSonstige</th>\n",
       "      <th>USTRZUSTAND</th>\n",
       "      <th>LINREFX</th>\n",
       "      <th>LINREFY</th>\n",
       "      <th>XGCSWGS84</th>\n",
       "      <th>YGCSWGS84</th>\n",
       "    </tr>\n",
       "  </thead>\n",
       "  <tbody>\n",
       "    <tr>\n",
       "      <th>0</th>\n",
       "      <td>49090</td>\n",
       "      <td>11</td>\n",
       "      <td>12</td>\n",
       "      <td>12301203</td>\n",
       "      <td>Wittenau Süd</td>\n",
       "      <td>2019</td>\n",
       "      <td>1</td>\n",
       "      <td>13</td>\n",
       "      <td>6</td>\n",
       "      <td>3</td>\n",
       "      <td>...</td>\n",
       "      <td>1</td>\n",
       "      <td>0</td>\n",
       "      <td>0</td>\n",
       "      <td>0</td>\n",
       "      <td>0</td>\n",
       "      <td>1</td>\n",
       "      <td>794062,2837</td>\n",
       "      <td>5835083,823</td>\n",
       "      <td>13,34146</td>\n",
       "      <td>52,58609</td>\n",
       "    </tr>\n",
       "    <tr>\n",
       "      <th>1</th>\n",
       "      <td>49091</td>\n",
       "      <td>11</td>\n",
       "      <td>3</td>\n",
       "      <td>3040818</td>\n",
       "      <td>Pankow Süd</td>\n",
       "      <td>2019</td>\n",
       "      <td>1</td>\n",
       "      <td>9</td>\n",
       "      <td>5</td>\n",
       "      <td>3</td>\n",
       "      <td>...</td>\n",
       "      <td>1</td>\n",
       "      <td>0</td>\n",
       "      <td>0</td>\n",
       "      <td>0</td>\n",
       "      <td>0</td>\n",
       "      <td>0</td>\n",
       "      <td>799130,4007</td>\n",
       "      <td>5832327,415</td>\n",
       "      <td>13,41356</td>\n",
       "      <td>52,55862</td>\n",
       "    </tr>\n",
       "    <tr>\n",
       "      <th>2</th>\n",
       "      <td>49093</td>\n",
       "      <td>11</td>\n",
       "      <td>12</td>\n",
       "      <td>12103115</td>\n",
       "      <td>Breitkopfbecken</td>\n",
       "      <td>2019</td>\n",
       "      <td>3</td>\n",
       "      <td>21</td>\n",
       "      <td>6</td>\n",
       "      <td>3</td>\n",
       "      <td>...</td>\n",
       "      <td>0</td>\n",
       "      <td>0</td>\n",
       "      <td>0</td>\n",
       "      <td>0</td>\n",
       "      <td>0</td>\n",
       "      <td>0</td>\n",
       "      <td>795437,613</td>\n",
       "      <td>5833549,454</td>\n",
       "      <td>13,36034</td>\n",
       "      <td>52,57159</td>\n",
       "    </tr>\n",
       "    <tr>\n",
       "      <th>3</th>\n",
       "      <td>49096</td>\n",
       "      <td>11</td>\n",
       "      <td>6</td>\n",
       "      <td>6040703</td>\n",
       "      <td>Nikolassee</td>\n",
       "      <td>2019</td>\n",
       "      <td>1</td>\n",
       "      <td>7</td>\n",
       "      <td>6</td>\n",
       "      <td>2</td>\n",
       "      <td>...</td>\n",
       "      <td>1</td>\n",
       "      <td>1</td>\n",
       "      <td>0</td>\n",
       "      <td>0</td>\n",
       "      <td>0</td>\n",
       "      <td>1</td>\n",
       "      <td>786714,3754</td>\n",
       "      <td>5817042,137</td>\n",
       "      <td>13,21777</td>\n",
       "      <td>52,42825</td>\n",
       "    </tr>\n",
       "    <tr>\n",
       "      <th>4</th>\n",
       "      <td>49097</td>\n",
       "      <td>11</td>\n",
       "      <td>7</td>\n",
       "      <td>7030303</td>\n",
       "      <td>Grazer Platz</td>\n",
       "      <td>2019</td>\n",
       "      <td>2</td>\n",
       "      <td>15</td>\n",
       "      <td>3</td>\n",
       "      <td>3</td>\n",
       "      <td>...</td>\n",
       "      <td>1</td>\n",
       "      <td>0</td>\n",
       "      <td>0</td>\n",
       "      <td>0</td>\n",
       "      <td>0</td>\n",
       "      <td>0</td>\n",
       "      <td>796074,3342</td>\n",
       "      <td>5822724,905</td>\n",
       "      <td>13,36007</td>\n",
       "      <td>52,47421</td>\n",
       "    </tr>\n",
       "  </tbody>\n",
       "</table>\n",
       "<p>5 rows × 24 columns</p>\n",
       "</div>"
      ],
      "text/plain": [
       "   OBJECTID  LAND  BEZ       LOR          STRASSE  UJAHR  UMONAT  USTUNDE  \\\n",
       "0     49090    11   12  12301203     Wittenau Süd   2019       1       13   \n",
       "1     49091    11    3   3040818       Pankow Süd   2019       1        9   \n",
       "2     49093    11   12  12103115  Breitkopfbecken   2019       3       21   \n",
       "3     49096    11    6   6040703       Nikolassee   2019       1        7   \n",
       "4     49097    11    7   7030303     Grazer Platz   2019       2       15   \n",
       "\n",
       "   UWOCHENTAG  UKATEGORIE  ...  IstPKW  IstFuss  IstKrad  IstGkfz  \\\n",
       "0           6           3  ...       1        0        0        0   \n",
       "1           5           3  ...       1        0        0        0   \n",
       "2           6           3  ...       0        0        0        0   \n",
       "3           6           2  ...       1        1        0        0   \n",
       "4           3           3  ...       1        0        0        0   \n",
       "\n",
       "   IstSonstige  USTRZUSTAND      LINREFX      LINREFY XGCSWGS84 YGCSWGS84  \n",
       "0            0            1  794062,2837  5835083,823  13,34146  52,58609  \n",
       "1            0            0  799130,4007  5832327,415  13,41356  52,55862  \n",
       "2            0            0   795437,613  5833549,454  13,36034  52,57159  \n",
       "3            0            1  786714,3754  5817042,137  13,21777  52,42825  \n",
       "4            0            0  796074,3342  5822724,905  13,36007  52,47421  \n",
       "\n",
       "[5 rows x 24 columns]"
      ]
     },
     "execution_count": 2,
     "metadata": {},
     "output_type": "execute_result"
    }
   ],
   "source": [
    "df = pd.read_csv('accident_data.csv', sep=';', encoding='ISO-8859-1')\n",
    "df.head(5)"
   ]
  },
  {
   "cell_type": "code",
   "execution_count": 3,
   "id": "32a88513-fd87-49e2-bc54-3b4e90905b4b",
   "metadata": {},
   "outputs": [
    {
     "name": "stdout",
     "output_type": "stream",
     "text": [
      "<class 'pandas.core.frame.DataFrame'>\n",
      "RangeIndex: 13390 entries, 0 to 13389\n",
      "Data columns (total 24 columns):\n",
      " #   Column       Non-Null Count  Dtype \n",
      "---  ------       --------------  ----- \n",
      " 0   OBJECTID     13390 non-null  int64 \n",
      " 1   LAND         13390 non-null  int64 \n",
      " 2   BEZ          13390 non-null  int64 \n",
      " 3   LOR          13390 non-null  int64 \n",
      " 4   STRASSE      13390 non-null  object\n",
      " 5   UJAHR        13390 non-null  int64 \n",
      " 6   UMONAT       13390 non-null  int64 \n",
      " 7   USTUNDE      13390 non-null  int64 \n",
      " 8   UWOCHENTAG   13390 non-null  int64 \n",
      " 9   UKATEGORIE   13390 non-null  int64 \n",
      " 10  UART         13390 non-null  int64 \n",
      " 11  UTYP1        13390 non-null  int64 \n",
      " 12  ULICHTVERH   13390 non-null  int64 \n",
      " 13  IstRad       13390 non-null  int64 \n",
      " 14  IstPKW       13390 non-null  int64 \n",
      " 15  IstFuss      13390 non-null  int64 \n",
      " 16  IstKrad      13390 non-null  int64 \n",
      " 17  IstGkfz      13390 non-null  int64 \n",
      " 18  IstSonstige  13390 non-null  object\n",
      " 19  USTRZUSTAND  13390 non-null  object\n",
      " 20  LINREFX      13390 non-null  object\n",
      " 21  LINREFY      13390 non-null  object\n",
      " 22  XGCSWGS84    13390 non-null  object\n",
      " 23  YGCSWGS84    13390 non-null  object\n",
      "dtypes: int64(17), object(7)\n",
      "memory usage: 2.5+ MB\n"
     ]
    }
   ],
   "source": [
    "df.info()"
   ]
  },
  {
   "cell_type": "code",
   "execution_count": 4,
   "id": "f5f755ee-7187-45e5-9b1a-5d79f56df68b",
   "metadata": {},
   "outputs": [],
   "source": [
    "df = df.drop(columns=['OBJECTID', 'BEZ', 'STRASSE', 'LAND',\t'LOR',\t'UJAHR', 'USTUNDE', 'UWOCHENTAG', 'UKATEGORIE',\n",
    "                    'UART', 'UTYP1', 'ULICHTVERH','IstSonstige','LINREFX','LINREFY','XGCSWGS84','YGCSWGS84'])"
   ]
  },
  {
   "cell_type": "code",
   "execution_count": 5,
   "id": "39a5fc05-3d84-4b07-8041-f7204bdbe23f",
   "metadata": {},
   "outputs": [],
   "source": [
    "df.rename(columns={'UMONAT':'month', 'IstRad':'bicycle', 'IstPKW':'car', 'IstFuss':'pedestrian', 'IstKrad':'motorbike',               \n",
    "                    'IstGkfz':'truck', 'USTRZUSTAND':'road condition'},inplace=True)"
   ]
  },
  {
   "cell_type": "code",
   "execution_count": 6,
   "id": "c7e0eb27-8612-4955-9fcc-00d9cd384896",
   "metadata": {},
   "outputs": [
    {
     "data": {
      "text/html": [
       "<div>\n",
       "<style scoped>\n",
       "    .dataframe tbody tr th:only-of-type {\n",
       "        vertical-align: middle;\n",
       "    }\n",
       "\n",
       "    .dataframe tbody tr th {\n",
       "        vertical-align: top;\n",
       "    }\n",
       "\n",
       "    .dataframe thead th {\n",
       "        text-align: right;\n",
       "    }\n",
       "</style>\n",
       "<table border=\"1\" class=\"dataframe\">\n",
       "  <thead>\n",
       "    <tr style=\"text-align: right;\">\n",
       "      <th></th>\n",
       "      <th>month</th>\n",
       "      <th>bicycle</th>\n",
       "      <th>car</th>\n",
       "      <th>pedestrian</th>\n",
       "      <th>motorbike</th>\n",
       "      <th>truck</th>\n",
       "      <th>road condition</th>\n",
       "    </tr>\n",
       "  </thead>\n",
       "  <tbody>\n",
       "    <tr>\n",
       "      <th>0</th>\n",
       "      <td>1</td>\n",
       "      <td>1</td>\n",
       "      <td>1</td>\n",
       "      <td>0</td>\n",
       "      <td>0</td>\n",
       "      <td>0</td>\n",
       "      <td>1</td>\n",
       "    </tr>\n",
       "    <tr>\n",
       "      <th>1</th>\n",
       "      <td>1</td>\n",
       "      <td>1</td>\n",
       "      <td>1</td>\n",
       "      <td>0</td>\n",
       "      <td>0</td>\n",
       "      <td>0</td>\n",
       "      <td>0</td>\n",
       "    </tr>\n",
       "    <tr>\n",
       "      <th>2</th>\n",
       "      <td>3</td>\n",
       "      <td>1</td>\n",
       "      <td>0</td>\n",
       "      <td>0</td>\n",
       "      <td>0</td>\n",
       "      <td>0</td>\n",
       "      <td>0</td>\n",
       "    </tr>\n",
       "    <tr>\n",
       "      <th>3</th>\n",
       "      <td>1</td>\n",
       "      <td>0</td>\n",
       "      <td>1</td>\n",
       "      <td>1</td>\n",
       "      <td>0</td>\n",
       "      <td>0</td>\n",
       "      <td>1</td>\n",
       "    </tr>\n",
       "    <tr>\n",
       "      <th>4</th>\n",
       "      <td>2</td>\n",
       "      <td>0</td>\n",
       "      <td>1</td>\n",
       "      <td>0</td>\n",
       "      <td>0</td>\n",
       "      <td>0</td>\n",
       "      <td>0</td>\n",
       "    </tr>\n",
       "  </tbody>\n",
       "</table>\n",
       "</div>"
      ],
      "text/plain": [
       "   month  bicycle  car  pedestrian  motorbike  truck road condition\n",
       "0      1        1    1           0          0      0              1\n",
       "1      1        1    1           0          0      0              0\n",
       "2      3        1    0           0          0      0              0\n",
       "3      1        0    1           1          0      0              1\n",
       "4      2        0    1           0          0      0              0"
      ]
     },
     "execution_count": 6,
     "metadata": {},
     "output_type": "execute_result"
    }
   ],
   "source": [
    "df.head(5)"
   ]
  },
  {
   "cell_type": "code",
   "execution_count": 7,
   "id": "45ba583d-eb39-4ec2-a15e-c60b14a70759",
   "metadata": {},
   "outputs": [
    {
     "name": "stdout",
     "output_type": "stream",
     "text": [
      "<class 'pandas.core.frame.DataFrame'>\n",
      "RangeIndex: 13390 entries, 0 to 13389\n",
      "Data columns (total 7 columns):\n",
      " #   Column          Non-Null Count  Dtype \n",
      "---  ------          --------------  ----- \n",
      " 0   month           13390 non-null  int64 \n",
      " 1   bicycle         13390 non-null  int64 \n",
      " 2   car             13390 non-null  int64 \n",
      " 3   pedestrian      13390 non-null  int64 \n",
      " 4   motorbike       13390 non-null  int64 \n",
      " 5   truck           13390 non-null  int64 \n",
      " 6   road condition  13390 non-null  object\n",
      "dtypes: int64(6), object(1)\n",
      "memory usage: 732.4+ KB\n"
     ]
    }
   ],
   "source": [
    "df.info()"
   ]
  },
  {
   "cell_type": "markdown",
   "id": "2812fdf9-1147-4fc3-83b5-0842e619c10a",
   "metadata": {},
   "source": [
    "### <span style='color: blue'> Changing month and road condition column type from int to str</span>"
   ]
  },
  {
   "cell_type": "code",
   "execution_count": 8,
   "id": "523ed751-d1aa-44a7-acb8-115062f46b7b",
   "metadata": {},
   "outputs": [],
   "source": [
    "df[['month', 'road condition']] = df[['month','road condition']].astype(str)"
   ]
  },
  {
   "cell_type": "code",
   "execution_count": 9,
   "id": "de138a7e-1781-437d-9209-2e557164ea81",
   "metadata": {},
   "outputs": [
    {
     "name": "stdout",
     "output_type": "stream",
     "text": [
      "<class 'pandas.core.frame.DataFrame'>\n",
      "RangeIndex: 13390 entries, 0 to 13389\n",
      "Data columns (total 7 columns):\n",
      " #   Column          Non-Null Count  Dtype \n",
      "---  ------          --------------  ----- \n",
      " 0   month           13390 non-null  object\n",
      " 1   bicycle         13390 non-null  int64 \n",
      " 2   car             13390 non-null  int64 \n",
      " 3   pedestrian      13390 non-null  int64 \n",
      " 4   motorbike       13390 non-null  int64 \n",
      " 5   truck           13390 non-null  int64 \n",
      " 6   road condition  13390 non-null  object\n",
      "dtypes: int64(5), object(2)\n",
      "memory usage: 732.4+ KB\n"
     ]
    }
   ],
   "source": [
    "df.info()"
   ]
  },
  {
   "cell_type": "markdown",
   "id": "82f56ff7-74d0-4a1a-b97d-c0be6db2f1b6",
   "metadata": {},
   "source": [
    "#### Changin month and road condition columns from numerical values to actual values"
   ]
  },
  {
   "cell_type": "code",
   "execution_count": 10,
   "id": "5f658aa4-7094-483c-901d-0aa2721d57ec",
   "metadata": {},
   "outputs": [],
   "source": [
    "months = [\"Jan\", \"Feb\", \"Mar\", \"Apr\", \"May\", \"Jun\", \"Jul\", \"Aug\", \"Sep\", \"Oct\", \"Nov\", \"Dec\"]\n",
    "df['month'] = df['month'].replace(['1','2','3','4','5','6','7','8','9','10','11','12'],months)\n",
    "df['month'] = pd.Categorical(df['month'], categories=months, ordered=True)"
   ]
  },
  {
   "cell_type": "code",
   "execution_count": 11,
   "id": "5c881067-b2ca-4f27-bb31-cbac35b221f9",
   "metadata": {},
   "outputs": [],
   "source": [
    "df['road condition'] = df['road condition'].replace(['0','1','2'],['dry','wet','icy'])"
   ]
  },
  {
   "cell_type": "code",
   "execution_count": 12,
   "id": "39a834d8-c2c9-4e7e-8c73-eeafa207e857",
   "metadata": {},
   "outputs": [
    {
     "data": {
      "text/html": [
       "<div>\n",
       "<style scoped>\n",
       "    .dataframe tbody tr th:only-of-type {\n",
       "        vertical-align: middle;\n",
       "    }\n",
       "\n",
       "    .dataframe tbody tr th {\n",
       "        vertical-align: top;\n",
       "    }\n",
       "\n",
       "    .dataframe thead th {\n",
       "        text-align: right;\n",
       "    }\n",
       "</style>\n",
       "<table border=\"1\" class=\"dataframe\">\n",
       "  <thead>\n",
       "    <tr style=\"text-align: right;\">\n",
       "      <th></th>\n",
       "      <th>month</th>\n",
       "      <th>bicycle</th>\n",
       "      <th>car</th>\n",
       "      <th>pedestrian</th>\n",
       "      <th>motorbike</th>\n",
       "      <th>truck</th>\n",
       "      <th>road condition</th>\n",
       "    </tr>\n",
       "  </thead>\n",
       "  <tbody>\n",
       "    <tr>\n",
       "      <th>0</th>\n",
       "      <td>Jan</td>\n",
       "      <td>1</td>\n",
       "      <td>1</td>\n",
       "      <td>0</td>\n",
       "      <td>0</td>\n",
       "      <td>0</td>\n",
       "      <td>wet</td>\n",
       "    </tr>\n",
       "    <tr>\n",
       "      <th>1</th>\n",
       "      <td>Jan</td>\n",
       "      <td>1</td>\n",
       "      <td>1</td>\n",
       "      <td>0</td>\n",
       "      <td>0</td>\n",
       "      <td>0</td>\n",
       "      <td>dry</td>\n",
       "    </tr>\n",
       "    <tr>\n",
       "      <th>2</th>\n",
       "      <td>Mar</td>\n",
       "      <td>1</td>\n",
       "      <td>0</td>\n",
       "      <td>0</td>\n",
       "      <td>0</td>\n",
       "      <td>0</td>\n",
       "      <td>dry</td>\n",
       "    </tr>\n",
       "    <tr>\n",
       "      <th>3</th>\n",
       "      <td>Jan</td>\n",
       "      <td>0</td>\n",
       "      <td>1</td>\n",
       "      <td>1</td>\n",
       "      <td>0</td>\n",
       "      <td>0</td>\n",
       "      <td>wet</td>\n",
       "    </tr>\n",
       "    <tr>\n",
       "      <th>4</th>\n",
       "      <td>Feb</td>\n",
       "      <td>0</td>\n",
       "      <td>1</td>\n",
       "      <td>0</td>\n",
       "      <td>0</td>\n",
       "      <td>0</td>\n",
       "      <td>dry</td>\n",
       "    </tr>\n",
       "  </tbody>\n",
       "</table>\n",
       "</div>"
      ],
      "text/plain": [
       "  month  bicycle  car  pedestrian  motorbike  truck road condition\n",
       "0   Jan        1    1           0          0      0            wet\n",
       "1   Jan        1    1           0          0      0            dry\n",
       "2   Mar        1    0           0          0      0            dry\n",
       "3   Jan        0    1           1          0      0            wet\n",
       "4   Feb        0    1           0          0      0            dry"
      ]
     },
     "execution_count": 12,
     "metadata": {},
     "output_type": "execute_result"
    }
   ],
   "source": [
    "df.head(5)"
   ]
  },
  {
   "cell_type": "code",
   "execution_count": 13,
   "id": "8446ec09-b715-4fd3-b521-52a065736971",
   "metadata": {},
   "outputs": [
    {
     "data": {
      "text/plain": [
       "Index(['month', 'bicycle', 'car', 'pedestrian', 'motorbike', 'truck',\n",
       "       'road condition'],\n",
       "      dtype='object')"
      ]
     },
     "execution_count": 13,
     "metadata": {},
     "output_type": "execute_result"
    }
   ],
   "source": [
    "df.columns"
   ]
  },
  {
   "cell_type": "code",
   "execution_count": 14,
   "id": "9acc1828-698c-4111-a18b-0d245cf0ccca",
   "metadata": {},
   "outputs": [
    {
     "name": "stdout",
     "output_type": "stream",
     "text": [
      "month: month\n",
      "Jun    1448\n",
      "Aug    1371\n",
      "Sep    1270\n",
      "Oct    1214\n",
      "May    1207\n",
      "Jul    1175\n",
      "Apr    1104\n",
      "Nov    1081\n",
      "Dec     936\n",
      "Mar     907\n",
      "Jan     891\n",
      "Feb     786\n",
      "Name: count, dtype: int64\n",
      "\n",
      "bicycle: bicycle\n",
      "0    8385\n",
      "1    5005\n",
      "Name: count, dtype: int64\n",
      "\n",
      "car: car\n",
      "1    10908\n",
      "0     2482\n",
      "Name: count, dtype: int64\n",
      "\n",
      "pedestrian: pedestrian\n",
      "0    11422\n",
      "1     1968\n",
      "Name: count, dtype: int64\n",
      "\n",
      "motorbike: motorbike\n",
      "0    11416\n",
      "1     1974\n",
      "Name: count, dtype: int64\n",
      "\n",
      "truck: truck\n",
      "0    12925\n",
      "1      465\n",
      "Name: count, dtype: int64\n",
      "\n",
      "road condition: road condition\n",
      "dry                        10154\n",
      "wet                         3190\n",
      "icy                           45\n",
      "Hellersdorfer Promenade        1\n",
      "Name: count, dtype: int64\n",
      "\n"
     ]
    }
   ],
   "source": [
    "for col in df.columns:\n",
    "    print(f'{col}: {df[col].value_counts()}\\n')"
   ]
  },
  {
   "cell_type": "markdown",
   "id": "6b2d085c-c05f-463e-b912-1bd675952595",
   "metadata": {},
   "source": [
    "### <span style='color: red'> road condition has one unknown value, removing it: </span>"
   ]
  },
  {
   "cell_type": "code",
   "execution_count": 15,
   "id": "f1adfeac-ea26-4650-b122-e207bb4eb355",
   "metadata": {},
   "outputs": [],
   "source": [
    "df.drop(\n",
    "    index = df\n",
    "    .index[df['road condition'] == 'Hellersdorfer Promenade']\n",
    "    .to_list(),\n",
    "    inplace=True)"
   ]
  },
  {
   "cell_type": "code",
   "execution_count": 16,
   "id": "4259f355-902d-4be3-b2eb-dd8978d82c92",
   "metadata": {},
   "outputs": [
    {
     "data": {
      "text/plain": [
       "array(['wet', 'dry', 'icy'], dtype=object)"
      ]
     },
     "execution_count": 16,
     "metadata": {},
     "output_type": "execute_result"
    }
   ],
   "source": [
    "df['road condition'].unique()"
   ]
  },
  {
   "cell_type": "code",
   "execution_count": null,
   "id": "f11f0d96-3f43-4e68-9682-15311e578172",
   "metadata": {},
   "outputs": [],
   "source": []
  }
 ],
 "metadata": {
  "kernelspec": {
   "display_name": "Python 3 (ipykernel)",
   "language": "python",
   "name": "python3"
  },
  "language_info": {
   "codemirror_mode": {
    "name": "ipython",
    "version": 3
   },
   "file_extension": ".py",
   "mimetype": "text/x-python",
   "name": "python",
   "nbconvert_exporter": "python",
   "pygments_lexer": "ipython3",
   "version": "3.11.6"
  }
 },
 "nbformat": 4,
 "nbformat_minor": 5
}
